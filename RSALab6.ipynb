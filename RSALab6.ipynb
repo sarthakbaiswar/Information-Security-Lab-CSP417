{
 "cells": [
  {
   "cell_type": "markdown",
   "metadata": {},
   "source": [
    "# RSA Implementation"
   ]
  },
  {
   "cell_type": "code",
   "execution_count": 1,
   "metadata": {},
   "outputs": [],
   "source": [
    "def gcd(a,b): \n",
    "    if b==0:\n",
    "        return a \n",
    "    else:\n",
    "        return gcd(b,a%b)"
   ]
  },
  {
   "cell_type": "code",
   "execution_count": 2,
   "metadata": {},
   "outputs": [],
   "source": [
    "def encryptRSA(no, e, n):\n",
    "    encrypted = pow(no, e) % n\n",
    "    print('Cipher Text = '+ str(encrypted))\n",
    "    return encrypted"
   ]
  },
  {
   "cell_type": "code",
   "execution_count": 3,
   "metadata": {},
   "outputs": [],
   "source": [
    "# multiple of e which will give remainder as 1 when modulo phi \n",
    "def decryptRSA(cipherdata, d, n):\n",
    "    decrypted = pow(cipherdata, d) % n\n",
    "    print('Decrypted Text = '+ str(decrypted))\n",
    "    return decrypted"
   ]
  },
  {
   "cell_type": "code",
   "execution_count": 4,
   "metadata": {},
   "outputs": [
    {
     "name": "stdout",
     "output_type": "stream",
     "text": [
      "n = 3127\n",
      "phi = 3016\n"
     ]
    }
   ],
   "source": [
    "# sample input \n",
    "# Enter the value of p = 53\n",
    "# Enter the value of q = 59\n",
    "# Enter the value of text = 89\n",
    "p = int(input('Enter the value of p = ')) \n",
    "q = int(input('Enter the value of q = ')) \n",
    "no = int(input('Enter the value of text = ')) \n",
    "n = p*q\n",
    "\n",
    "phi = (p-1)*(q-1)\n",
    "\n",
    "print('n = ' + str(n))\n",
    "print('phi = ' + str(phi))"
   ]
  },
  {
   "cell_type": "code",
   "execution_count": 5,
   "metadata": {},
   "outputs": [
    {
     "name": "stdout",
     "output_type": "stream",
     "text": [
      "Value of e (public key):3\n",
      "Value of d (private key):2011\n"
     ]
    }
   ],
   "source": [
    "#find e\n",
    "e = 0\n",
    "for ee in range(2,phi): \n",
    "    if gcd(ee,phi)== 1:\n",
    "        print('Value of e (public key):' + str(ee))\n",
    "        e = ee\n",
    "        break\n",
    "        \n",
    "# find d     \n",
    "for i in range(1,phi): \n",
    "    x = 1 + i*phi \n",
    "    if x % e == 0: \n",
    "        d = int(x/e) \n",
    "        print('Value of d (private key):' + str(d))\n",
    "        break"
   ]
  },
  {
   "cell_type": "code",
   "execution_count": 6,
   "metadata": {},
   "outputs": [
    {
     "name": "stdout",
     "output_type": "stream",
     "text": [
      "Cipher Text = 1394\n"
     ]
    }
   ],
   "source": [
    "encrypted = encryptRSA(no, e, n)"
   ]
  },
  {
   "cell_type": "code",
   "execution_count": 7,
   "metadata": {},
   "outputs": [
    {
     "name": "stdout",
     "output_type": "stream",
     "text": [
      "Decrypted Text = 89\n"
     ]
    }
   ],
   "source": [
    "decrypted = decryptRSA(encrypted, d, n)"
   ]
  },
  {
   "cell_type": "markdown",
   "metadata": {},
   "source": [
    "## Factorisation Attack ##"
   ]
  },
  {
   "cell_type": "markdown",
   "metadata": {},
   "source": [
    "##### Given n, e(public key), ciphertext\n",
    "##### Can we find 2 prime factors of n such that they can be p & q"
   ]
  },
  {
   "cell_type": "markdown",
   "metadata": {},
   "source": [
    "Here we find all primes less than n"
   ]
  },
  {
   "cell_type": "code",
   "execution_count": 8,
   "metadata": {},
   "outputs": [],
   "source": [
    "def isPrime(n): \n",
    "    # Corner case \n",
    "    if n <= 1 : \n",
    "        return False\n",
    "    # check from 2 to n-1 \n",
    "    for i in range(2, n): \n",
    "        if n % i == 0: \n",
    "            return False\n",
    "  \n",
    "    return True\n",
    "\n",
    "def getPrimes(n):\n",
    "    lst = []\n",
    "    for i in range(2, n + 1): \n",
    "        if isPrime(i): \n",
    "            lst.append(i)\n",
    "    return lst"
   ]
  },
  {
   "cell_type": "markdown",
   "metadata": {},
   "source": [
    "Now in factorisation attack we get p and q which are prime and give product as n"
   ]
  },
  {
   "cell_type": "code",
   "execution_count": 9,
   "metadata": {},
   "outputs": [],
   "source": [
    "def factorisationAttack(n, e, cipherdata):\n",
    "    primes = getPrimes(n)\n",
    "    p1 = 0\n",
    "    q1 = 0\n",
    "    d1 = 0\n",
    "    for i in primes:\n",
    "        for j in primes:\n",
    "            if i!=j :\n",
    "                temp = i*j\n",
    "                if(temp == n):\n",
    "                    p1 = i\n",
    "                    q1 = j\n",
    "                    break;\n",
    "                \n",
    "    if(p1 == 0 and q1 == 0):\n",
    "        print('No p and q found')\n",
    "        return\n",
    "    else:\n",
    "        print('Found p and q')\n",
    "        print('p: '+ str(p1) +' q:' + str(q1))\n",
    "        phi = (p1-1)*(q1-1)\n",
    "        for i in range(1,phi): \n",
    "            x = 1 + i*phi \n",
    "            if x % e == 0: \n",
    "                d1 = int(x/e) \n",
    "                break\n",
    "        decryptRSA(cipherdata, d1, n) \n",
    "        print('RSA broken successfully')"
   ]
  },
  {
   "cell_type": "code",
   "execution_count": 10,
   "metadata": {},
   "outputs": [],
   "source": [
    "# sample input\n",
    "# Enter the value of cipherdata = 1394\n",
    "# Enter the value of n = 3127\n",
    "# Enter the value of e = 3\n",
    "\n",
    "cipherdata = int(input('Enter the value of cipherdata = ')) \n",
    "n = int(input('Enter the value of n = ')) \n",
    "e = int(input('Enter the value of e = ')) "
   ]
  },
  {
   "cell_type": "code",
   "execution_count": 11,
   "metadata": {},
   "outputs": [
    {
     "name": "stdout",
     "output_type": "stream",
     "text": [
      "Found p and q\n",
      "p: 59 q:53\n",
      "Decrypted Text = 89\n",
      "RSA broken successfully\n"
     ]
    }
   ],
   "source": [
    "factorisationAttack(n, e, cipherdata)"
   ]
  },
  {
   "cell_type": "code",
   "execution_count": null,
   "metadata": {},
   "outputs": [],
   "source": []
  }
 ],
 "metadata": {
  "kernelspec": {
   "display_name": "Python 3",
   "language": "python",
   "name": "python3"
  },
  "language_info": {
   "codemirror_mode": {
    "name": "ipython",
    "version": 3
   },
   "file_extension": ".py",
   "mimetype": "text/x-python",
   "name": "python",
   "nbconvert_exporter": "python",
   "pygments_lexer": "ipython3",
   "version": "3.6.6"
  }
 },
 "nbformat": 4,
 "nbformat_minor": 2
}
