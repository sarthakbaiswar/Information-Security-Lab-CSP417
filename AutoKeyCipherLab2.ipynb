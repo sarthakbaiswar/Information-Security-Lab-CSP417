{
 "cells": [
  {
   "cell_type": "markdown",
   "metadata": {},
   "source": [
    "## Autokey Cipher"
   ]
  },
  {
   "cell_type": "code",
   "execution_count": 1,
   "metadata": {},
   "outputs": [],
   "source": [
    "# Dictionary to lookup the index of alphabets\n",
    "# dict1 for character to number\n",
    "# dict2 for number to character\n",
    "dict1 = {'A': 0, 'B': 1, 'C': 2, 'D': 3, 'E': 4,\n",
    "         'F': 5, 'G': 6, 'H': 7, 'I': 8, 'J': 9,\n",
    "         'K': 10, 'L': 11, 'M': 12, 'N': 13, 'O': 14,\n",
    "         'P': 15, 'Q': 16, 'R': 17, 'S': 18, 'T': 19,\n",
    "         'U': 20, 'V': 21, 'W': 22, 'X': 23, 'Y': 24, 'Z': 25}\n",
    "\n",
    "dict2 = {0: 'A', 1: 'B', 2: 'C', 3: 'D', 4: 'E',\n",
    "         5: 'F', 6: 'G', 7: 'H', 8: 'I', 9: 'J',\n",
    "         10: 'K', 11: 'L', 12: 'M', 13: 'N', 14: 'O',\n",
    "         15: 'P', 16: 'Q', 17: 'R', 18: 'S', 19: 'T',\n",
    "         20: 'U', 21: 'V', 22: 'W', 23: 'X', 24: 'Y', 25: 'Z'}"
   ]
  },
  {
   "cell_type": "code",
   "execution_count": 2,
   "metadata": {},
   "outputs": [],
   "source": [
    "# Key modification if user given\n",
    "# Remake the Key if short in length\n",
    "def generate_key(message, key):\n",
    "    i = 0\n",
    "    while True:\n",
    "        if len(key) == len(message):\n",
    "            break\n",
    "        if message[i] == ' ':\n",
    "            i += 1\n",
    "        else:\n",
    "            key += message[i] #concat message string if given key short in length\n",
    "            i += 1\n",
    "    return key"
   ]
  },
  {
   "cell_type": "code",
   "execution_count": 3,
   "metadata": {},
   "outputs": [],
   "source": [
    "# Encryption Function\n",
    "def encryptWithAutoKey(message, key_new):\n",
    "    cipher_text = ''\n",
    "    i = 0\n",
    "    for letter in message:\n",
    "        if letter == ' ':\n",
    "            cipher_text += ' '\n",
    "        else:\n",
    "            x = (dict1[letter.upper()]+dict1[key_new[i].upper()]) % 26 #add both numbers and take modulo 26 \n",
    "            i += 1\n",
    "            cipher_text += dict2[x] # get character corresponding to the number\n",
    "    return cipher_text "
   ]
  },
  {
   "cell_type": "code",
   "execution_count": 4,
   "metadata": {},
   "outputs": [],
   "source": [
    "# Decryption function\n",
    "def decryptWithAutoKey(cipher_text, key_new):\n",
    "    decrypt_txt = ''\n",
    "    i = 0\n",
    "    for letter in cipher_text:\n",
    "        if letter == ' ':\n",
    "            decrypt_txt += ' '\n",
    "        else:\n",
    "            x = (dict1[letter.upper()]-dict1[key_new[i].upper()]+26) % 26 #subtract both numbers and take modulo 26: opposite of encryption\n",
    "            i += 1\n",
    "            decrypt_txt += dict2[x] # get character \n",
    "    return decrypt_txt"
   ]
  },
  {
   "cell_type": "markdown",
   "metadata": {},
   "source": [
    "### If user only gives the key use this"
   ]
  },
  {
   "cell_type": "code",
   "execution_count": 5,
   "metadata": {},
   "outputs": [
    {
     "name": "stdout",
     "output_type": "stream",
     "text": [
      "Key: SECRETATTACKAT\n",
      "Encrypted Text = SXVRGD AM WAYX\n",
      "Decrypted Text = ATTACK AT DAWN\n"
     ]
    }
   ],
   "source": [
    "message = input('Enter the text to be encrypted: ')\n",
    "key = input('Enter the key: ')\n",
    "key_new = generate_key(message, key)\n",
    "print('Key:',key_new)\n",
    "encrypted_text = encryptWithAutoKey(message, key_new)\n",
    "decrypted_text = decryptWithAutoKey(encrypted_text, key_new)\n",
    "\n",
    "print(\"Encrypted Text =\", encrypted_text)\n",
    "\n",
    "print(\"Decrypted Text =\", decrypted_text)"
   ]
  },
  {
   "cell_type": "markdown",
   "metadata": {},
   "source": [
    "### If Random Key then use this"
   ]
  },
  {
   "cell_type": "code",
   "execution_count": 6,
   "metadata": {},
   "outputs": [
    {
     "name": "stdout",
     "output_type": "stream",
     "text": [
      "Key: YVUXRPSNBCXGVB\n",
      "Encrypted Text = YONXTZ SG ECTT\n",
      "Decrypted Text = ATTACK AT DAWN\n"
     ]
    }
   ],
   "source": [
    "# Main run of program\n",
    "# message = 'ATTACK AT DAWN'\n",
    "# key = 'SECRET'\n",
    "\n",
    "import random, string\n",
    "\n",
    "message = input('Enter the text to be encrypted: ')\n",
    "\n",
    "#random generation of key of same length as message\n",
    "key = ''.join(random.choice(string.ascii_uppercase) for x in range(len(message)))\n",
    "print('Key:',key)\n",
    "\n",
    "encrypted_text = encryptWithAutoKey(message, key)\n",
    "decrypted_text = decryptWithAutoKey(encrypted_text, key)\n",
    "\n",
    "print(\"Encrypted Text =\", encrypted_text)\n",
    "print(\"Decrypted Text =\", decrypted_text)"
   ]
  },
  {
   "cell_type": "code",
   "execution_count": null,
   "metadata": {},
   "outputs": [],
   "source": []
  }
 ],
 "metadata": {
  "kernelspec": {
   "display_name": "Python 3",
   "language": "python",
   "name": "python3"
  },
  "language_info": {
   "codemirror_mode": {
    "name": "ipython",
    "version": 3
   },
   "file_extension": ".py",
   "mimetype": "text/x-python",
   "name": "python",
   "nbconvert_exporter": "python",
   "pygments_lexer": "ipython3",
   "version": "3.6.6"
  }
 },
 "nbformat": 4,
 "nbformat_minor": 2
}
