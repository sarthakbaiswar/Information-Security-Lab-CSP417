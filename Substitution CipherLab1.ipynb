{
 "cells": [
  {
   "cell_type": "code",
   "execution_count": 1,
   "metadata": {},
   "outputs": [],
   "source": [
    "import random    "
   ]
  },
  {
   "cell_type": "code",
   "execution_count": 2,
   "metadata": {},
   "outputs": [],
   "source": [
    "def encrypt(msg,shiftNo):\n",
    "    encryptMsg = \"\"\n",
    "    for s in msg:\n",
    "        if s ==\" \":\n",
    "            encryptMsg += \"-\"\n",
    "        else:\n",
    "            c = ((ord(s)-65)+shiftNo)%26 #add shift to ascii and them convert back\n",
    "            c = chr(c+65)\n",
    "            encryptMsg+=c\n",
    "    return encryptMsg"
   ]
  },
  {
   "cell_type": "code",
   "execution_count": 3,
   "metadata": {},
   "outputs": [],
   "source": [
    "def decrypt(msg,shiftNo):\n",
    "    decryptMsg = \"\"\n",
    "    for s in msg:\n",
    "        if s == \"-\":\n",
    "            decryptMsg+=\" \"\n",
    "        else:\n",
    "            c = ((ord(s)-65)-shiftNo+26)%26 #subtract shift from ascii and then convert back\n",
    "            c = chr(c+65)\n",
    "            decryptMsg+=c\n",
    "    return decryptMsg"
   ]
  },
  {
   "cell_type": "code",
   "execution_count": 4,
   "metadata": {},
   "outputs": [
    {
     "name": "stdout",
     "output_type": "stream",
     "text": [
      "Genrated Shift is :  18\n",
      "Encrypted Text:  YJWSL-HGOWJ-YJWSL-JWKHGFKATADALQ\n",
      "Decrypted Text:  GREAT POWER GREAT RESPONSIBILITY\n"
     ]
    }
   ],
   "source": [
    "shiftNo = random.randint(0,26)\n",
    "print(\"Genrated Shift is : \",shiftNo)\n",
    "\n",
    "msg = \"Great Power Great Responsibility\"\n",
    "msg = msg.upper()\n",
    "\n",
    "res = encrypt(msg,shiftNo)\n",
    "print(\"Encrypted Text: \",res)\n",
    "org = decrypt(res,shiftNo)\n",
    "print(\"Decrypted Text: \",org)"
   ]
  },
  {
   "cell_type": "code",
   "execution_count": null,
   "metadata": {},
   "outputs": [],
   "source": []
  }
 ],
 "metadata": {
  "kernelspec": {
   "display_name": "Python 3",
   "language": "python",
   "name": "python3"
  },
  "language_info": {
   "codemirror_mode": {
    "name": "ipython",
    "version": 3
   },
   "file_extension": ".py",
   "mimetype": "text/x-python",
   "name": "python",
   "nbconvert_exporter": "python",
   "pygments_lexer": "ipython3",
   "version": "3.6.6"
  }
 },
 "nbformat": 4,
 "nbformat_minor": 2
}
