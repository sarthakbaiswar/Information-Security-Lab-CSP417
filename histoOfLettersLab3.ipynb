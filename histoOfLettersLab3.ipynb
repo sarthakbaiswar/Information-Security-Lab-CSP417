{
 "cells": [
  {
   "cell_type": "markdown",
   "metadata": {},
   "source": [
    "**Histogram of Letters in a file**"
   ]
  },
  {
   "cell_type": "code",
   "execution_count": 1,
   "metadata": {},
   "outputs": [],
   "source": [
    "import matplotlib.pyplot as plt\n",
    "import numpy as np\n",
    "import pandas as pd"
   ]
  },
  {
   "cell_type": "code",
   "execution_count": 2,
   "metadata": {},
   "outputs": [
    {
     "name": "stdout",
     "output_type": "stream",
     "text": [
      "Count of all characters is :\n",
      " {'a': 16, 'b': 11, 'c': 10, 'd': 11, 'e': 35, 'f': 11, 'g': 11, 'h': 22, 'i': 12, 'j': 9, 'k': 10, 'l': 14, 'm': 13, 'n': 11, 'o': 44, 'p': 11, 'q': 9, 'r': 20, 's': 14, 't': 21, 'u': 19, 'v': 9, 'w': 9, 'x': 10, 'y': 10, 'z': 10}\n"
     ]
    },
    {
     "data": {
      "image/png": "[encoded data removed]",
      "text/plain": [
       "<Figure size 432x288 with 1 Axes>"
      ]
     },
     "metadata": {},
     "output_type": "display_data"
    }
   ],
   "source": [
    "aplha_str = \"abcdefghijklmnopqrstuvwxyz\"\n",
    "file = \"input.txt\"\n",
    "with open(file) as f:\n",
    "    text = f.read().strip()\n",
    "    text = text.lower()\n",
    "    freq = {}\n",
    "    for x in aplha_str:\n",
    "        freq[x] = text.count(x)\n",
    "        \n",
    "print (\"Count of all characters is :\\n \" +  str(freq))\n",
    "plt.bar(freq.keys(), freq.values(), width=1)\n",
    "plt.ylabel('No of times')\n",
    "plt.xlabel('Letters')\n",
    "plt.show()"
   ]
  },
  {
   "cell_type": "markdown",
   "metadata": {},
   "source": [
    "**Star shaped histogram for the same**"
   ]
  },
  {
   "cell_type": "code",
   "execution_count": 3,
   "metadata": {},
   "outputs": [
    {
     "name": "stdout",
     "output_type": "stream",
     "text": [
      "a:* * * * * * * * * * * * * * * * \n",
      "b:* * * * * * * * * * * \n",
      "c:* * * * * * * * * * \n",
      "d:* * * * * * * * * * * \n",
      "e:* * * * * * * * * * * * * * * * * * * * * * * * * * * * * * * * * * * \n",
      "f:* * * * * * * * * * * \n",
      "g:* * * * * * * * * * * \n",
      "h:* * * * * * * * * * * * * * * * * * * * * * \n",
      "i:* * * * * * * * * * * * \n",
      "j:* * * * * * * * * \n",
      "k:* * * * * * * * * * \n",
      "l:* * * * * * * * * * * * * * \n",
      "m:* * * * * * * * * * * * * \n",
      "n:* * * * * * * * * * * \n",
      "o:* * * * * * * * * * * * * * * * * * * * * * * * * * * * * * * * * * * * * * * * * * * * \n",
      "p:* * * * * * * * * * * \n",
      "q:* * * * * * * * * \n",
      "r:* * * * * * * * * * * * * * * * * * * * \n",
      "s:* * * * * * * * * * * * * * \n",
      "t:* * * * * * * * * * * * * * * * * * * * * \n",
      "u:* * * * * * * * * * * * * * * * * * * \n",
      "v:* * * * * * * * * \n",
      "w:* * * * * * * * * \n",
      "x:* * * * * * * * * * \n",
      "y:* * * * * * * * * * \n",
      "z:* * * * * * * * * * \n"
     ]
    }
   ],
   "source": [
    "for i in freq.keys():\n",
    "    print(i, end = ':')\n",
    "    for j in range(freq[i]): \n",
    "        print('*', end = ' ')\n",
    "    print('')"
   ]
  },
  {
   "cell_type": "code",
   "execution_count": null,
   "metadata": {},
   "outputs": [],
   "source": []
  }
 ],
 "metadata": {
  "kernelspec": {
   "display_name": "Python 3",
   "language": "python",
   "name": "python3"
  },
  "language_info": {
   "codemirror_mode": {
    "name": "ipython",
    "version": 3
   },
   "file_extension": ".py",
   "mimetype": "text/x-python",
   "name": "python",
   "nbconvert_exporter": "python",
   "pygments_lexer": "ipython3",
   "version": "3.6.6"
  }
 },
 "nbformat": 4,
 "nbformat_minor": 2
}
