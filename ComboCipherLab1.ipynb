{
 "cells": [
  {
   "cell_type": "code",
   "execution_count": 1,
   "metadata": {},
   "outputs": [],
   "source": [
    "import math\n",
    "import random    "
   ]
  },
  {
   "cell_type": "markdown",
   "metadata": {},
   "source": [
    "**Substitution Cipher**"
   ]
  },
  {
   "cell_type": "code",
   "execution_count": 2,
   "metadata": {},
   "outputs": [],
   "source": [
    "def encryptSubs(msg,shiftNo):\n",
    "    encryptMsg = \"\"\n",
    "    for s in msg:\n",
    "        if s ==\" \":\n",
    "            encryptMsg += \"-\"\n",
    "        else:\n",
    "            c = ((ord(s)-65)+shiftNo)%26 #add shift to ascii and them convert back\n",
    "            c = chr(c+65)\n",
    "            encryptMsg+=c\n",
    "    return encryptMsg"
   ]
  },
  {
   "cell_type": "code",
   "execution_count": 3,
   "metadata": {},
   "outputs": [],
   "source": [
    "def decryptSubs(msg,shiftNo):\n",
    "    decryptMsg = \"\"\n",
    "    for s in msg:\n",
    "        if s == \"-\":\n",
    "            decryptMsg+=\" \"\n",
    "        else:\n",
    "            c = ((ord(s)-65)-shiftNo+26)%26 #subtract shift from ascii and then convert back\n",
    "            c = chr(c+65)\n",
    "            decryptMsg+=c\n",
    "    return decryptMsg"
   ]
  },
  {
   "cell_type": "code",
   "execution_count": 4,
   "metadata": {},
   "outputs": [
    {
     "name": "stdout",
     "output_type": "stream",
     "text": [
      "Genrated Shift is :  15\n",
      "Substitution Encrypted Text:  VGTPI-EDLTG-VGTPI-GTHEDCHXQXAXIN\n",
      "Substitution Decrypted Text:  GREAT POWER GREAT RESPONSIBILITY\n"
     ]
    }
   ],
   "source": [
    "shiftNo = random.randint(0,26)\n",
    "print(\"Genrated Shift is : \",shiftNo)\n",
    "\n",
    "msg = \"Great Power Great Responsibility\"\n",
    "msg = msg.upper()\n",
    "\n",
    "res = encryptSubs(msg,shiftNo)\n",
    "print(\"Substitution Encrypted Text: \",res)\n",
    "org = decryptSubs(res,shiftNo)\n",
    "print(\"Substitution Decrypted Text: \",org)"
   ]
  },
  {
   "cell_type": "markdown",
   "metadata": {},
   "source": [
    "**Transposition Cipher**"
   ]
  },
  {
   "cell_type": "code",
   "execution_count": 5,
   "metadata": {},
   "outputs": [],
   "source": [
    "def printTable(table):\n",
    "    for i in range(len(table)):\n",
    "        for j in range(len(table[0])):\n",
    "            print(table[i][j],end=' ')\n",
    "        print(\" \")"
   ]
  },
  {
   "cell_type": "code",
   "execution_count": 6,
   "metadata": {},
   "outputs": [],
   "source": [
    "def pre_process(msg, roundKey):\n",
    "\n",
    "    temp = list(roundKey)\n",
    "    temp.sort()\n",
    "    temp = \"\".join(temp)\n",
    "    print('sorted key: ' + temp)\n",
    "    keyNum = \"\"\n",
    "    i = 0\n",
    "    for r in roundKey:\n",
    "        keyNum += str(temp.find(r) + 1)\n",
    "\n",
    "\n",
    "    print('Numeric order of key: ' + keyNum)\n",
    "\n",
    "    row = math.ceil(len(msg)/len(roundKey))\n",
    "\n",
    "    column = len(roundKey)\n",
    "    print(\"Rowsize : \",row, 'Columnsize: ', column)\n",
    "    row = row+1\n",
    "    table=[[\" \"]*column for i in range(row)]\n",
    "    idx=0\n",
    "\n",
    "    while idx<len(keyNum):\n",
    "        table[0][idx] = int(keyNum[idx])\n",
    "        idx+=1\n",
    "\n",
    "#     print(\"Initial Table\")\n",
    "#     printTable(table)\n",
    "    \n",
    "    return table, keyNum"
   ]
  },
  {
   "cell_type": "code",
   "execution_count": 7,
   "metadata": {},
   "outputs": [],
   "source": [
    "def encrypt(msg, roundKey):\n",
    "    msg=msg.upper().replace(\" \",\"\")\n",
    "    idx = 0\n",
    "    table,keyNum = pre_process(msg,roundKey)\n",
    "    row = len(table)\n",
    "    column = len(table[0])\n",
    "\n",
    "#     print(\"Message length: \",len(msg))\n",
    "    print()\n",
    "    for i in range(1, row):\n",
    "        for j in range(column):\n",
    "            table[i][j] = msg[idx]\n",
    "            idx+=1\n",
    "            if idx == len(msg):\n",
    "                break;\n",
    "        if(idx == len(msg)):\n",
    "            break;\n",
    "\n",
    "    printTable(table)\n",
    "    \n",
    "    cipherText=\"\"\n",
    "    for ix in range(len(roundKey)):\n",
    "        ix = ix + 1\n",
    "        idx=0\n",
    "        for i in range(column):\n",
    "#             find column to read in order from 1 to len(roundKey)\n",
    "            if table[0][i]==ix:\n",
    "                idx=i\n",
    "                break\n",
    "        for j in range(1,row):\n",
    "            tt=table[j][idx]\n",
    "            cipherText=cipherText+tt\n",
    "    print(\"Transposition Cipher Text: \",cipherText)\n",
    "    return cipherText"
   ]
  },
  {
   "cell_type": "code",
   "execution_count": 8,
   "metadata": {},
   "outputs": [],
   "source": [
    "def decrypt(msg, roundKey):\n",
    "#     msg = 'WIURIEW$AGIDENTLRIF$VAO$LBL$ENU$'\n",
    "    idxx = 0\n",
    "    table,keyNum=pre_process(msg,roundKey)\n",
    "    row = len(table)\n",
    "    column = len(table[0])\n",
    "#     print(\"Encrypted message length: \",len(msg))\n",
    "\n",
    "    print()\n",
    "    for ix in range(1, len(roundKey)+1):\n",
    "        idx=0\n",
    "        for i in range(column):\n",
    "#             find column to put the values\n",
    "            if table[0][i]==ix:\n",
    "                idx=i\n",
    "                break\n",
    "        for j in range(1,row):\n",
    "            table[j][idx]=msg[idxx]\n",
    "            idxx+=1\n",
    "\n",
    "    printTable(table)\n",
    "    decipherText = \"\" \n",
    "    for i in range(1, row):\n",
    "        for j in range(column):\n",
    "            if table[i][j]!=' ':\n",
    "                decipherText += table[i][j]\n",
    "\n",
    "    print('Transposition Decipher Text: ' + decipherText)\n",
    "    return decipherText"
   ]
  },
  {
   "cell_type": "code",
   "execution_count": 9,
   "metadata": {},
   "outputs": [
    {
     "name": "stdout",
     "output_type": "stream",
     "text": [
      "Shift is :  10\n",
      "\n",
      "*****************Subs. Encryption***************\n",
      "\n",
      "Encrypted Text:  S-MKX-NY-DRSC-FOBI-CWKBDVI\n",
      "\n",
      "*****************Trans. Encryption***************\n",
      "\n",
      "sorted key: CEMOPRTU\n",
      "Numeric order of key: 14358726\n",
      "Rowsize :  4 Columnsize:  8\n",
      "\n",
      "1 4 3 5 8 7 2 6  \n",
      "S - M K X - N Y  \n",
      "- D R S C - F O  \n",
      "B I - C W K B D  \n",
      "V I              \n",
      "Transposition Cipher Text:  S-BVNFB MR- -DIIKSC YOD --K XCW \n"
     ]
    }
   ],
   "source": [
    "shiftNo = 10\n",
    "print(\"Shift is : \",shiftNo)\n",
    "\n",
    "msg = \"I can do this very smartly\"\n",
    "msg = msg.upper()\n",
    "\n",
    "print(\"\\n*****************Subs. Encryption***************\\n\")\n",
    "res = encryptSubs(msg,shiftNo)\n",
    "print(\"Encrypted Text: \",res)\n",
    "\n",
    "roundKey=\"COMPUTER\"\n",
    "msg = res\n",
    "print(\"\\n*****************Trans. Encryption***************\\n\")\n",
    "encrypted_text = encrypt(msg,roundKey)"
   ]
  },
  {
   "cell_type": "code",
   "execution_count": 10,
   "metadata": {},
   "outputs": [
    {
     "name": "stdout",
     "output_type": "stream",
     "text": [
      "\n",
      "\n",
      "*****************Decryption***************\n",
      "\n",
      "sorted key: CEMOPRTU\n",
      "Numeric order of key: 14358726\n",
      "Rowsize :  4 Columnsize:  8\n",
      "\n",
      "1 4 3 5 8 7 2 6  \n",
      "S - M K X - N Y  \n",
      "- D R S C - F O  \n",
      "B I - C W K B D  \n",
      "V I              \n",
      "Transposition Decipher Text: S-MKX-NY-DRSC-FOBI-CWKBDVI\n",
      "Decrypted Text:  I CAN DO THIS VERY SMARTLY\n"
     ]
    }
   ],
   "source": [
    "print(\"\\n\\n*****************Decryption***************\\n\")\n",
    "decrypted_text = decrypt(encrypted_text,roundKey)\n",
    "\n",
    "\n",
    "org = decryptSubs(decrypted_text,shiftNo)\n",
    "print(\"Decrypted Text: \",org)"
   ]
  }
 ],
 "metadata": {
  "kernelspec": {
   "display_name": "Python 3",
   "language": "python",
   "name": "python3"
  },
  "language_info": {
   "codemirror_mode": {
    "name": "ipython",
    "version": 3
   },
   "file_extension": ".py",
   "mimetype": "text/x-python",
   "name": "python",
   "nbconvert_exporter": "python",
   "pygments_lexer": "ipython3",
   "version": "3.6.6"
  }
 },
 "nbformat": 4,
 "nbformat_minor": 2
}
