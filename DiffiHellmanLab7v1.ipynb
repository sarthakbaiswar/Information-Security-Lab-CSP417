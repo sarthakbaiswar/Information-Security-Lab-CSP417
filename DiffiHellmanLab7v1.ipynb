{
 "cells": [
  {
   "cell_type": "markdown",
   "metadata": {},
   "source": [
    "### Functions for Primitive Root for N and checking whether a number is primitve root of other"
   ]
  },
  {
   "cell_type": "code",
   "execution_count": 1,
   "metadata": {},
   "outputs": [],
   "source": [
    "def checkPrimitiveRoot(N,R):\n",
    "    alist=dict.fromkeys(range(1,N), False)\n",
    "    #loop through values from 0 to N-2 \n",
    "    for i in range(N-1):\n",
    "        temp=pow(R,i,N) #R^i mod N\n",
    "        if alist[temp]==False:\n",
    "            alist[temp]=not alist[temp]\n",
    "        else:\n",
    "            return False # if repeats even once within the N then fasle not primitive root\n",
    "#     print(alist)\n",
    "    return True "
   ]
  },
  {
   "cell_type": "code",
   "execution_count": 2,
   "metadata": {},
   "outputs": [
    {
     "data": {
      "text/plain": [
       "True"
      ]
     },
     "execution_count": 2,
     "metadata": {},
     "output_type": "execute_result"
    }
   ],
   "source": [
    "checkPrimitiveRoot(23,10)"
   ]
  },
  {
   "cell_type": "code",
   "execution_count": 3,
   "metadata": {},
   "outputs": [],
   "source": [
    "# Gives the primitive roots for N, from 1 to N-1\n",
    "def findRoot(N):\n",
    "    collectRoots = []\n",
    "    #Try out all possible values between 1 to N-1\n",
    "    for i in range(1,N):\n",
    "        if checkPrimitiveRoot(N,i):\n",
    "            print(\"{} is the Primitive Root module  {}\".format(i,N))\n",
    "            collectRoots.append(i)\n",
    "    \n",
    "    return collectRoots"
   ]
  },
  {
   "cell_type": "code",
   "execution_count": 4,
   "metadata": {},
   "outputs": [
    {
     "name": "stdout",
     "output_type": "stream",
     "text": [
      "5 is the Primitive Root module  23\n",
      "7 is the Primitive Root module  23\n",
      "10 is the Primitive Root module  23\n",
      "11 is the Primitive Root module  23\n",
      "14 is the Primitive Root module  23\n",
      "15 is the Primitive Root module  23\n",
      "17 is the Primitive Root module  23\n",
      "19 is the Primitive Root module  23\n",
      "20 is the Primitive Root module  23\n",
      "21 is the Primitive Root module  23\n"
     ]
    },
    {
     "data": {
      "text/plain": [
       "[5, 7, 10, 11, 14, 15, 17, 19, 20, 21]"
      ]
     },
     "execution_count": 4,
     "metadata": {},
     "output_type": "execute_result"
    }
   ],
   "source": [
    "findRoot(23)"
   ]
  },
  {
   "cell_type": "code",
   "execution_count": 5,
   "metadata": {},
   "outputs": [],
   "source": [
    "#works only when g is Primitive ROOT OF G\n",
    "def generateDiscreteLogTable(N,g):\n",
    "    collectRoots=findRoot(N)\n",
    "    if g not in collectRoots:\n",
    "        print(\" {} not Root of {}\".format(g,N))\n",
    "        return \n",
    "    table=dict.fromkeys(range(1,N),0)\n",
    "    for i in range(N-1):\n",
    "        temp=pow(g,i,N)\n",
    "        table[temp]=i\n",
    "       \n",
    "    print(\"\\nTABLE FOR DISCRETE LOGARITHM OF {} under module {}\".format(g,N))\n",
    "    print(\"N\\tLog(g)[N]\")\n",
    "    for k,v in table.items():\n",
    "        print(\"{}\\t{}\".format(k,v))"
   ]
  },
  {
   "cell_type": "code",
   "execution_count": 6,
   "metadata": {},
   "outputs": [
    {
     "name": "stdout",
     "output_type": "stream",
     "text": [
      "5 is the Primitive Root module  23\n",
      "7 is the Primitive Root module  23\n",
      "10 is the Primitive Root module  23\n",
      "11 is the Primitive Root module  23\n",
      "14 is the Primitive Root module  23\n",
      "15 is the Primitive Root module  23\n",
      "17 is the Primitive Root module  23\n",
      "19 is the Primitive Root module  23\n",
      "20 is the Primitive Root module  23\n",
      "21 is the Primitive Root module  23\n",
      "\n",
      "TABLE FOR DISCRETE LOGARITHM OF 10 under module 23\n",
      "N\tLog(g)[N]\n",
      "1\t0\n",
      "2\t8\n",
      "3\t20\n",
      "4\t16\n",
      "5\t15\n",
      "6\t6\n",
      "7\t21\n",
      "8\t2\n",
      "9\t18\n",
      "10\t1\n",
      "11\t3\n",
      "12\t14\n",
      "13\t12\n",
      "14\t7\n",
      "15\t13\n",
      "16\t10\n",
      "17\t17\n",
      "18\t4\n",
      "19\t5\n",
      "20\t9\n",
      "21\t19\n",
      "22\t11\n"
     ]
    }
   ],
   "source": [
    "generateDiscreteLogTable(23,10)"
   ]
  },
  {
   "cell_type": "markdown",
   "metadata": {},
   "source": [
    "### Diffi - hellman Implementation"
   ]
  },
  {
   "cell_type": "code",
   "execution_count": 7,
   "metadata": {},
   "outputs": [],
   "source": [
    "P = 23    # shared prime\n",
    "G = 10      # generator\n",
    "\n",
    "a = 6     # a's secret\n",
    "b = 15      # b's secret"
   ]
  },
  {
   "cell_type": "code",
   "execution_count": 8,
   "metadata": {},
   "outputs": [
    {
     "name": "stdout",
     "output_type": "stream",
     "text": [
      "Publicly Shared Variables:\n",
      "    Publicly Shared Prime:  23\n",
      "    Publicly Shared Base:   10\n"
     ]
    }
   ],
   "source": [
    "print( \"Publicly Shared Variables:\")\n",
    "print( \"    Publicly Shared Prime: \" , P)\n",
    "print( \"    Publicly Shared Base:  \" , G)"
   ]
  },
  {
   "cell_type": "markdown",
   "metadata": {},
   "source": [
    "#### a sends b : x = G^a mod P"
   ]
  },
  {
   "cell_type": "code",
   "execution_count": 9,
   "metadata": {},
   "outputs": [
    {
     "name": "stdout",
     "output_type": "stream",
     "text": [
      "a sends msg to b: 6\n"
     ]
    }
   ],
   "source": [
    "x = (G**a)%P\n",
    "\n",
    "print('a sends msg to b:', str(x))"
   ]
  },
  {
   "cell_type": "markdown",
   "metadata": {},
   "source": [
    "#### b sends a : y = G^b mod P"
   ]
  },
  {
   "cell_type": "code",
   "execution_count": 10,
   "metadata": {},
   "outputs": [
    {
     "name": "stdout",
     "output_type": "stream",
     "text": [
      "b sends msg to a: 5\n"
     ]
    }
   ],
   "source": [
    "y = (G**b)%P\n",
    "\n",
    "print('b sends msg to a:', str(y))"
   ]
  },
  {
   "cell_type": "markdown",
   "metadata": {},
   "source": [
    "### Now privately calculated shared secret\n",
    "#### a_SharedSecret = y^a mod P\n",
    "#### b_SharedSecret = x^b mod P"
   ]
  },
  {
   "cell_type": "code",
   "execution_count": 11,
   "metadata": {},
   "outputs": [],
   "source": [
    "a_SharedSecret = (y**a)%P"
   ]
  },
  {
   "cell_type": "code",
   "execution_count": 12,
   "metadata": {},
   "outputs": [],
   "source": [
    "b_SharedSecret = (x**b)%P"
   ]
  },
  {
   "cell_type": "code",
   "execution_count": 13,
   "metadata": {},
   "outputs": [
    {
     "name": "stdout",
     "output_type": "stream",
     "text": [
      "Shared Secret of a:  8\n"
     ]
    }
   ],
   "source": [
    "print('Shared Secret of a: ', a_SharedSecret)"
   ]
  },
  {
   "cell_type": "code",
   "execution_count": 14,
   "metadata": {},
   "outputs": [
    {
     "name": "stdout",
     "output_type": "stream",
     "text": [
      "Shared Secret of b:  8\n"
     ]
    }
   ],
   "source": [
    "print('Shared Secret of b: ', b_SharedSecret)"
   ]
  },
  {
   "cell_type": "code",
   "execution_count": null,
   "metadata": {},
   "outputs": [],
   "source": []
  }
 ],
 "metadata": {
  "kernelspec": {
   "display_name": "Python 3",
   "language": "python",
   "name": "python3"
  },
  "language_info": {
   "codemirror_mode": {
    "name": "ipython",
    "version": 3
   },
   "file_extension": ".py",
   "mimetype": "text/x-python",
   "name": "python",
   "nbconvert_exporter": "python",
   "pygments_lexer": "ipython3",
   "version": "3.6.6"
  }
 },
 "nbformat": 4,
 "nbformat_minor": 2
}
