{
 "cells": [
  {
   "cell_type": "markdown",
   "metadata": {},
   "source": [
    "### DES Algorithm for image Encryption"
   ]
  },
  {
   "cell_type": "code",
   "execution_count": 1,
   "metadata": {},
   "outputs": [],
   "source": [
    "from tkinter import *\n",
    "from tkinter import filedialog\n",
    "from tkinter import messagebox as tkMessageBox\n",
    "import os\n",
    "#import Image\n",
    "from PIL import Image\n",
    "import math\n",
    "from Crypto.Cipher import AES\n",
    "from Crypto.Cipher import DES\n",
    "import hashlib\n",
    "import binascii"
   ]
  },
  {
   "cell_type": "code",
   "execution_count": 2,
   "metadata": {},
   "outputs": [],
   "source": [
    "# encryption method\n",
    "# -----------------\n",
    "def encrypt(imagename,password,iv):\n",
    "    # initialize variables\n",
    "    plaintext = list()\n",
    "    plaintextstr = \"\"\n",
    "\n",
    "    # load the image\n",
    "    im = Image.open(imagename)  # open target image\n",
    "    pix = im.load()\n",
    "\n",
    "    #print im.size   # print size of image (width,height)\n",
    "    width = im.size[0]\n",
    "    height = im.size[1]\n",
    "\n",
    "    # break up the image into a list, each with pixel values and then append to a string\n",
    "    for y in range(0,height):\n",
    "        #print(\"Row: %d\") %y  # print row number\n",
    "        for x in range(0,width):\n",
    "            #print pix[x,y]  # print each pixel RGB tuple\n",
    "            plaintext.append(pix[x,y])\n",
    "\n",
    "    # add 100 to each tuple value to make sure each are 3 digits long.  being able to do this is really just a PoC\n",
    "    # that you'll be able to use a raw application of RSA to encrypt, rather than PyCrypto if you wanted.\n",
    "    for i in range(0,len(plaintext)):\n",
    "        for j in range(0,3):\n",
    "            plaintextstr = plaintextstr + \"%d\" %(int(plaintext[i][j])+100)\n",
    "\n",
    "    # length save for encrypted image reconstruction\n",
    "    relength = len(plaintext)\n",
    "\n",
    "    #print(\"LENGTH: \",relength)\n",
    "\n",
    "    # append dimensions of image for reconstruction after decryption\n",
    "    plaintextstr += \"h\" + str(height) + \"h\" + \"w\" + str(width) + \"w\"\n",
    "\n",
    "    # make sure that plantextstr length is a multiple of 16 for AES.  if not, append \"n\".  not safe in theory\n",
    "    # and i should probably replace this with an initialization vector IV = 16 * '\\x00' at some point.  In practice\n",
    "    # this IV buffer should be random.\n",
    "    while (len(plaintextstr) % 16 != 0):\n",
    "        plaintextstr = plaintextstr + \"n\"\n",
    "\n",
    "    # encrypt plaintext\n",
    "    \n",
    "#     key0=DesKey(b\"ABC\")\n",
    "#     ciphertext=key0.encrypt(plaintextstr,padding=True)\n",
    "    \n",
    "    key=password.encode('utf-8')\n",
    "    des1 = DES.new(key, DES.MODE_CFB, iv)\n",
    "    \n",
    "#     obj = AES.new(password, AES.MODE_CBC, 'This is an IV456')\n",
    "#     ciphertext = obj.encrypt(plaintextstr)\n",
    "\n",
    "    plainText=plaintextstr.encode('utf-8')\n",
    "    ciphertext = des1.encrypt(plainText)\n",
    "    # write ciphertext to file for analysis\n",
    "\n",
    "    # print(\"Ciphertext: \",ciphertext)\n",
    "    print(\"CIPHER TEXT CREATED ....\")\n",
    "    cipher_name = imagename + \".crypt\"\n",
    "    g = open(cipher_name, 'wb')\n",
    "    g.write(ciphertext)\n",
    "\n",
    "    # -----------------\n",
    "    # construct encrypted image (not currently using since Tkinter isn't very nice)\n",
    "    # -----------------\n",
    "    def construct_enc_image():\n",
    "        # hexlify the ciphertext\n",
    "        asciicipher = binascii.hexlify(ciphertext)\n",
    "\n",
    "        # replace function\n",
    "        def replace_all(text, dic):\n",
    "            for i, j in dic.items():\n",
    "                text = text.replace(i, j)\n",
    "            return text\n",
    "\n",
    "        # use replace function to replace ascii cipher characters with numbers\n",
    "        reps = {'a':'1', 'b':'2', 'c':'3', 'd':'4', 'e':'5', 'f':'6', 'g':'7', 'h':'8', 'i':'9', 'j':'10', 'k':'11', 'l':'12', 'm':'13', 'n':'14', 'o':'15', 'p':'16', 'q':'17', 'r':'18', 's':'19', 't':'20', 'u':'21', 'v':'22', 'w':'23', 'x':'24', 'y':'25', 'z':'26'}\n",
    "        asciicipher=asciicipher.decode('utf-8')\n",
    "        asciiciphertxt = replace_all(asciicipher, reps)\n",
    "\n",
    "        # construct encrypted image\n",
    "        step = 3\n",
    "        encimageone=[asciiciphertxt[i:i+step] for i in range(0, len(asciiciphertxt), step)]\n",
    "        # if the last pixel RGB value is less than 3-digits, add a digit a 1\n",
    "        if int(encimageone[len(encimageone)-1]) < 100:\n",
    "            encimageone[len(encimageone)-1] += \"1\"\n",
    "        # check to see if we can divide the string into partitions of 3 digits.  if not, fill in with some garbage RGB values\n",
    "        if len(encimageone) % 3 != 0:\n",
    "            while (len(encimageone) % 3 != 0):\n",
    "                encimageone.append(\"101\")\n",
    "\n",
    "        encimagetwo=[(int(encimageone[int(i)]),int(encimageone[int(i+1)]),int(encimageone[int(i+2)])) for i in range(0, len(encimageone), step)]\n",
    "\n",
    "        # make sizes of images equal\n",
    "        while (int(relength) != len(encimagetwo)):\n",
    "            encimagetwo.pop()\n",
    "\n",
    "        # encrypted image\n",
    "        encim = Image.new(\"RGB\", (int(width),int(height)))\n",
    "        encim.putdata(encimagetwo)\n",
    "\n",
    "        encim.show()\n",
    "        # alert success and path to image\n",
    "#         enc_success(cipher_name)\n",
    "\n",
    "    construct_enc_image()\n"
   ]
  },
  {
   "cell_type": "code",
   "execution_count": 3,
   "metadata": {},
   "outputs": [],
   "source": [
    "def decrypt(ciphername,password,iv):\n",
    "    # reach ciphertext into memory\n",
    "    cipher = open(ciphername,'rb')\n",
    "    ciphertext = cipher.read()\n",
    "\n",
    "    key=password.encode('utf-8')\n",
    "    des2 = DES.new(key, DES.MODE_CFB, iv)\n",
    "    \n",
    "    decrypted=des2.decrypt(ciphertext)\n",
    "\n",
    "    decrypted=decrypted.decode('utf-8')\n",
    "\n",
    "    decrypted = decrypted.replace(\"n\",\"\")\n",
    "\n",
    "    # extract dimensions of images\n",
    "    newwidth = decrypted.split(\"w\")[1]\n",
    "    newheight = decrypted.split(\"h\")[1]\n",
    "\n",
    "    # replace height and width with emptyspace in decrypted plaintext\n",
    "    heightr = \"h\" + str(newheight) + \"h\"\n",
    "    widthr = \"w\" + str(newwidth) + \"w\"\n",
    "    decrypted = decrypted.replace(heightr,\"\")\n",
    "    decrypted = decrypted.replace(widthr,\"\")\n",
    "\n",
    "    # reconstruct the list of RGB tuples from the decrypted plaintext\n",
    "    step = 3\n",
    "    finaltextone=[decrypted[i:i+step] for i in range(0, len(decrypted), step)]\n",
    "    finaltexttwo=[(int(finaltextone[int(i)])-100,int(finaltextone[int(i+1)])-100,int(finaltextone[int(i+2)])-100) for i in range(0, len(finaltextone), step)]\n",
    "\n",
    "    # reconstruct image from list of pixel RGB tuples\n",
    "    newim = Image.new(\"RGB\", (int(newwidth), int(newheight)))\n",
    "    newim.putdata(finaltexttwo)\n",
    "    newim.show()\n"
   ]
  },
  {
   "cell_type": "code",
   "execution_count": 4,
   "metadata": {},
   "outputs": [],
   "source": [
    "# image encrypt button event\n",
    "def imageEncryption(filename, password,iv):           \n",
    "    file_path_e = os.path.dirname(filename)\n",
    "    # encrypt the image\n",
    "    print(\"ENCRYPTING...\")\n",
    "    encrypt(filename,password,iv)\n",
    "    print(\"FILE SUCCESSFULLY ENCRYPTED.... \")\n",
    "\n",
    "\n",
    "# image decrypt button event\n",
    "def imageDecryption(filename, password,iv):\n",
    "    file_path_d = os.path.dirname(filename)\n",
    "    decrypt(filename,password,iv)\n",
    "    print(\"FILE SUCCESSFULLY DECRYPTED.... \")\n",
    "\n"
   ]
  },
  {
   "cell_type": "code",
   "execution_count": 5,
   "metadata": {},
   "outputs": [],
   "source": [
    "from Crypto import Random\n",
    "iv = Random.get_random_bytes(8)"
   ]
  },
  {
   "cell_type": "markdown",
   "metadata": {},
   "source": [
    "## DES works on 8 byte key only"
   ]
  },
  {
   "cell_type": "code",
   "execution_count": 8,
   "metadata": {},
   "outputs": [
    {
     "name": "stdout",
     "output_type": "stream",
     "text": [
      "ENCRYPTING...\n",
      "CIPHER TEXT CREATED ....\n",
      "FILE SUCCESSFULLY ENCRYPTED.... \n"
     ]
    }
   ],
   "source": [
    "# Path for Encryted Image to test \n",
    "filename = r\"0.jpg\"\n",
    "imageEncryption(filename, \"SARTHAKK\",iv)  # SARTHAKK -> is the 8 byte key, it should always be 8 byte in DES"
   ]
  },
  {
   "cell_type": "code",
   "execution_count": 7,
   "metadata": {},
   "outputs": [
    {
     "name": "stdout",
     "output_type": "stream",
     "text": [
      "FILE SUCCESSFULLY DECRYPTED.... \n"
     ]
    }
   ],
   "source": [
    "#Give path to folder where your crypt file will be stored.\n",
    "#for now, it will be stored in the same folder where you keep your image for encryption with the name\n",
    "# IMAGE_NAME.EXTENSION.crypt\n",
    "cipherfile = r\"0.jpg.crypt\"\n",
    "imageDecryption(cipherfile, \"SARTHAKK\",iv) "
   ]
  },
  {
   "cell_type": "code",
   "execution_count": null,
   "metadata": {},
   "outputs": [],
   "source": []
  }
 ],
 "metadata": {
  "kernelspec": {
   "display_name": "Python 3",
   "language": "python",
   "name": "python3"
  },
  "language_info": {
   "codemirror_mode": {
    "name": "ipython",
    "version": 3
   },
   "file_extension": ".py",
   "mimetype": "text/x-python",
   "name": "python",
   "nbconvert_exporter": "python",
   "pygments_lexer": "ipython3",
   "version": "3.6.6"
  }
 },
 "nbformat": 4,
 "nbformat_minor": 2
}
