{
 "cells": [
  {
   "cell_type": "code",
   "execution_count": 1,
   "metadata": {},
   "outputs": [],
   "source": [
    "from Crypto.Util.number import *\n",
    "from Crypto import Random\n",
    "import Crypto\n",
    "from sympy import mod_inverse\n",
    "import sys"
   ]
  },
  {
   "cell_type": "code",
   "execution_count": 2,
   "metadata": {},
   "outputs": [
    {
     "name": "stdout",
     "output_type": "stream",
     "text": [
      "Message=codemonks\n",
      "p=1145869590077635993\n",
      "q=674783417816114801\n",
      "N=773213798364137643116889553977632393\n",
      "cipher=637473796440274076662864606717107986\n",
      "decipher=b'codemonks'\n"
     ]
    }
   ],
   "source": [
    "bits = 60\n",
    "# file = \"input.txt\"\n",
    "# with open(file) as f:\n",
    "#     text = f.read().strip()\n",
    "#     text = text.lower()\n",
    "msg = \"codemonks\"\n",
    "\n",
    "p = Crypto.Util.number.getPrime(bits, randfunc = Crypto.Random.get_random_bytes)\n",
    "q = Crypto.Util.number.getPrime(bits, randfunc = Crypto.Random.get_random_bytes)\n",
    "\n",
    "n = p*q\n",
    "phi = (p-1)*(q-1)\n",
    "\n",
    "e = 65537\n",
    "d = (mod_inverse(e, phi))\n",
    "\n",
    "m = bytes_to_long(msg.encode('utf-8'))\n",
    "\n",
    "c = pow(m, e, n)\n",
    "res = pow(c, d, n)\n",
    "\n",
    "print(\"Message=%s\\np=%s\\nq=%s\\nN=%s\\ncipher=%s\\ndecipher=%s\" % (msg,p,q,n,c,(long_to_bytes(res))))"
   ]
  },
  {
   "cell_type": "code",
   "execution_count": null,
   "metadata": {},
   "outputs": [],
   "source": []
  }
 ],
 "metadata": {
  "kernelspec": {
   "display_name": "Python 3",
   "language": "python",
   "name": "python3"
  },
  "language_info": {
   "codemirror_mode": {
    "name": "ipython",
    "version": 3
   },
   "file_extension": ".py",
   "mimetype": "text/x-python",
   "name": "python",
   "nbconvert_exporter": "python",
   "pygments_lexer": "ipython3",
   "version": "3.6.6"
  }
 },
 "nbformat": 4,
 "nbformat_minor": 2
}
