{
 "cells": [
  {
   "cell_type": "markdown",
   "metadata": {},
   "source": [
    "### DES with CFB for TEXT"
   ]
  },
  {
   "cell_type": "code",
   "execution_count": 1,
   "metadata": {},
   "outputs": [],
   "source": [
    "from Crypto.Cipher import DES\n",
    "from Crypto import Random"
   ]
  },
  {
   "cell_type": "code",
   "execution_count": 2,
   "metadata": {},
   "outputs": [],
   "source": [
    "def pad(text):\n",
    "    while len(text)%8!=0:\n",
    "        text+=\" \"\n",
    "    return text"
   ]
  },
  {
   "cell_type": "code",
   "execution_count": 3,
   "metadata": {},
   "outputs": [],
   "source": [
    "iv = Random.get_random_bytes(8)\n",
    "\n",
    "des1 = DES.new(b'01234567', DES.MODE_CFB, iv)\n",
    "\n",
    "des2 = DES.new(b'01234567', DES.MODE_CFB, iv)\n",
    "\n",
    "file = \"input.txt\"\n",
    "with open(file) as f:\n",
    "    text = f.read().strip()\n",
    "    text = text.lower()\n",
    "# text = 'Code must be like a piece of music'\n",
    "text = pad(text)\n",
    "text = str.encode(text)\n",
    "\n",
    "cipher_text = des1.encrypt(text)\n",
    "\n",
    "decipher_text=des2.decrypt(cipher_text)"
   ]
  },
  {
   "cell_type": "code",
   "execution_count": 4,
   "metadata": {},
   "outputs": [
    {
     "name": "stdout",
     "output_type": "stream",
     "text": [
      "b\"\\xf0w\\\\\\xe5\\xb4\\xba\\xe2\\xaf\\xa3\\xa4\\xff\\x9b\\xf9\\x1a\\xb5\\x92Z\\xbd\\xb4S\\xe9\\xbez0\\x13\\xa4:\\x88D\\x0f\\x83,\\xddA\\xea\\x97(WK+\\xee\\x17\\xa0\\x82m\\xe7\\xd77K%\\xa5\\xf2kEW\\xbf\\xaf)\\x1c\\xef\\xe7_U\\xb8\\xa4\\xfb\\x138\\xdc\\xb2\\xa9i\\xaf\\xa0\\xe8>\\xeb\\xb5\\x89O\\x16\\xbe\\xa7\\xfcS\\xe36\\xd2h\\xe6y\\xf3\\x8eE\\x1c\\xf7\\x00\\xc3\\xc8\\x9f\\x84\\xc7\\xf1\\x15\\x86\\x02Z\\xb0\\x10P@%Mo\\x18\\x97\\t\\xb5\\x11j<\\xe6\\x8ep1\\x8b\\xfcg\\xb08\\xe8\\xbb\\xad\\xb5O\\xf9\\xc0\\r\\xff\\xf7\\xf6\\xd4De\\x0c^\\xc3S\\xc5\\x97X\\x82\\x1fi\\x07\\x16D\\x89gn7F\\x14\\xcb\\xcd.\\xa2\\xb8C\\xa7\\xaaQ \\x9dmW\\xa5l5\\xd8\\xf3\\xd9\\x97\\x83\\t\\x91\\xe6\\x12\\x12\\x83O\\xd4X\\xaf0n\\xb5\\xed\\x19L\\xee\\xfc\\xdaD\\x08\\x92\\xd5\\xd9Rw\\xf4 id)\\xd7\\xc8\\xde\\xcff\\xd2\\xde\\xe5>\\x7ft;_\\x9b\\xd2\\x9b\\xd2 \\xbd\\x96\\xe2O\\xc3\\x96\\x13\\xbewi\\xa9_\\x86v\\xa5*\\x06\\xe8\\x07\\x17K\\xe2[\\x8b'%\\xf23)\\xbb\\x1d*:^\\xf3+l\\xb1v\\xd5K\\xff\\x0b\\xe5C#\\x08[\\xea\\xb49^\\xee\\x07%\\xc9)\\xbd\\xa3j\\xc7*\\x0e\\x9840+\\xb3\\x8d}\\xb7k\\xaf;\\xc2c\\xf1}\\xce\\xf4\\xceM`$W\\x88\\x8b$%\\x92_\\xb2\\xcf\\xddJ\\xb6\\xcc'\\xcc\\x01\\x10yo\\xfa#\\x91\\xb3vP\\x1dB,\\x80\\xbb\\xae\\xd2U\\x9e\\x8d\\xe5\\xc6\\\\\\xb5\\x91\\xc8\\xbaB\\xca,\\xb3\\xf7\\xa3EN\\xd6%x\\x1b\\xc0\\xe3E\\xcd\\x01\\xdd\\xa4Q\\xde\\xeb\\xa9>\\xf2~\\xe2\\xf1\\xd7(\\x81\\xe7\\xa6\\xb6B\\x8d{\\x8e\\xa9\\xd8\\x95k|\\xfe\\xbf/\\xed\\xc2^\\xf8\\x1a\\xb1\\xd7\\x9e\\x13b\\xc9V`\\xd9\\xddZ\\x99\\x9f\\x81|{}\\x9ci\\xa7\\x9a\\x8b\\xacJ\\x10>\\xd2\\x92\\xd3\\xe7\\xd7\\t\\xa6\\xaaI\\x16<\\xc9\\x9fV\\xbcWL+\\xa2\\x81\\x83\\x12\\xe8e\\xee\\t\\xec\\xfe\\xa7\\x17\\x9a+tkD>\\xb2\\xbbO\\x9f@jD\\x87\\xca\\x88\\xd4Oh\\xeeW\\xc8\"\n"
     ]
    }
   ],
   "source": [
    "print(cipher_text)"
   ]
  },
  {
   "cell_type": "code",
   "execution_count": 5,
   "metadata": {},
   "outputs": [
    {
     "name": "stdout",
     "output_type": "stream",
     "text": [
      "b'the quick brown fox jumps over the lazy dog the name of the fox is blahblah the quick brown fox jumps over the lazy dog the quick brown fox jumps over the lazy dog the quick brown fox jumps over the lazy dog the quick brown fox jumps over the lazy dog\\nthe quick brown fox jumps over the lazy dog \\n the quick brown fox jumps over the lazy dog the quick brown fox jumps over the lazy dog the quick brown fox jumps over the lazy dog lazy dog comes and goese lorem ipsum iska olperato,       '\n"
     ]
    }
   ],
   "source": [
    "print(decipher_text)"
   ]
  },
  {
   "cell_type": "markdown",
   "metadata": {},
   "source": [
    "### DES with OFB for TEXT"
   ]
  },
  {
   "cell_type": "code",
   "execution_count": 6,
   "metadata": {},
   "outputs": [],
   "source": [
    "iv = Random.get_random_bytes(8)\n",
    "\n",
    "des1 = DES.new(b'01234567', DES.MODE_OFB, iv)\n",
    "\n",
    "des2 = DES.new(b'01234567', DES.MODE_OFB, iv)\n",
    "\n",
    "file = \"input.txt\"\n",
    "with open(file) as f:\n",
    "    text1 = f.read().strip()\n",
    "    text1 = text1.lower()\n",
    "# text1 = 'Code must be like a piece of music'\n",
    "text1 = pad(text1)\n",
    "text1 = str.encode(text1)\n",
    "\n",
    "cipher_text = des1.encrypt(text1)\n",
    "\n",
    "decipher_text=des2.decrypt(cipher_text)"
   ]
  },
  {
   "cell_type": "code",
   "execution_count": 7,
   "metadata": {},
   "outputs": [
    {
     "name": "stdout",
     "output_type": "stream",
     "text": [
      "b\"\\x13\\xc2>\\x83\\xe5,\\xd9r\\x87)\\xa2\\xad3\\xa5\\xc8_\\xa8\\xd5g|tGT\\xab\\x86\\xfb\\xbc\\x05o\\x97\\xc5\\x82\\xfe\\x05\\xb8\\xa5Q\\xee\\xcc\\xf3\\xe9E\\x95\\xa9\\x08\\xda\\r\\xcc-n}\\x00\\x92\\xf3'o\\x98_\\xca(S\\x06\\x14\\xf9\\xf5\\nb\\x88Y&\\x83O\\xdf\\x19d^\\xdd=n\\xd5sZ5\\xa8R\\x88\\x88T\\x14v\\x08D\\x05N\\xc7'\\xdd\\x10\\xd6F\\x08\\xf1)\\x80\\xd6\\x90\\x04\\x018\\x80\\xe2\\x1c\\xd9\\xb1\\xf8\\xe0\\xfd\\x91\\xcf\\x85\\x0e\\xad\\xb5X\\xf4\\x9d5\\xf18k\\x8b\\xef\\xdf\\xe8j\\x07\\x08bX\\xd6\\xab\\x8e\\x9a\\xdcN\\xee\\xfcX\\x8e\\xdfU\\xfa\\x8e\\x13$\\x88M\\xad\\xf0\\x13\\xcc\\x91\\xc6\\xcd3mC \\xc9\\xef\\xe2k!\\xbeF\\x9f/\\xb0\\xaa7\\xa4\\x8a\\xc9\\x16\\x88\\xfbq\\xd6<\\xdf\\xab\\xc9\\xce\\x8aV\\xa4\\xe2|\\xbd\\x9d\\xeb\\xc7I'\\xa8\\x8b\\x1b%\\xe3I%H\\x0c\\xc3\\x03~\\xa8[\\xb1\\xdf\\x98H\\xd3K\\xff\\x90\\x81\\xe5f\\xdc\\xadM\\xa8\\xb3\\xae\\x04\\x01L\\xbd\\xdc[\\xa4\\xbbu^V\\xf2\\xa9,\\xda\\x0e\\x08\\xdf\\xbbg\\x0c\\xaa\\xe6w\\xda\\xbeM\\xe1K<\\x01\\xeb\\x8e\\x00x\\xb5\\x0b\\xfbyR\\x1c\\xdd@\\x9c\\xba\\xbb\\xd7\\xb7\\xce\\xd0Y\\x15\\xb2\\xfe\\xaa\\xf9\\x85zyb\\xf3^w\\x03\\xb6Sa\\x9dc\\x8f\\x0f\\x8b\\xfepp\\xc9\\x1f\\x9a\\x0f\\xbc\\xceWaM\\xf3\\xff\\xa5+\\x82T}on\\xbb\\xb82rd\\xc8,\\x19@\\x18#\\xb5\\xb9\\xe7\\xc67\\x1e\\x82\\xa0\\x18\\xf4\\xee\\x92\\x0f\\xf9\\x8d\\xca.;{L^x\\xd8A\\x0f*\\xbfU\\xde\\xed\\x0c\\x169\\x1b\\xa4\\xc8.\\xe3\\xee\\x9d\\xa7\\xe2s\\x83\\xa8\\xe1>\\xd4(@H\\xfe\\xa1o\\xa46\\x99:\\xad\\x8d\\x17ZX\\xb3\\xe0u\\x96\\xac\\xc8o\\xb3\\x82\\xafs\\x1d\\xec,\\x92\\xdbc\\x18\\x06E\\x95<\\x8c\\x82\\x1e\\x8b\\xde\\xd2\\xbc\\xa3\\xc79\\x01M\\xb8<\\xb0\\x8aN\\xbeZ\\xde`\\x8b\\x96h\\xa4}\\xebT\\xf6[\\x0e=\\x7f~\\x94\\xe0\\xc92\\xf7\\xb2jJ\\xcb\\\\\\x13\\xd9@&'`\\x1e\\x80\\xef\\x1d\\x8e\\xe7l\\x9f\\x0f\\xff\\x9e\\xf3\\x07\\xea\"\n"
     ]
    }
   ],
   "source": [
    "print(cipher_text)"
   ]
  },
  {
   "cell_type": "code",
   "execution_count": 8,
   "metadata": {},
   "outputs": [
    {
     "name": "stdout",
     "output_type": "stream",
     "text": [
      "b'the quick brown fox jumps over the lazy dog the name of the fox is blahblah the quick brown fox jumps over the lazy dog the quick brown fox jumps over the lazy dog the quick brown fox jumps over the lazy dog the quick brown fox jumps over the lazy dog\\nthe quick brown fox jumps over the lazy dog \\n the quick brown fox jumps over the lazy dog the quick brown fox jumps over the lazy dog the quick brown fox jumps over the lazy dog lazy dog comes and goese lorem ipsum iska olperato,       '\n"
     ]
    }
   ],
   "source": [
    "print(decipher_text)"
   ]
  }
 ],
 "metadata": {
  "kernelspec": {
   "display_name": "Python 3",
   "language": "python",
   "name": "python3"
  },
  "language_info": {
   "codemirror_mode": {
    "name": "ipython",
    "version": 3
   },
   "file_extension": ".py",
   "mimetype": "text/x-python",
   "name": "python",
   "nbconvert_exporter": "python",
   "pygments_lexer": "ipython3",
   "version": "3.6.6"
  }
 },
 "nbformat": 4,
 "nbformat_minor": 2
}
