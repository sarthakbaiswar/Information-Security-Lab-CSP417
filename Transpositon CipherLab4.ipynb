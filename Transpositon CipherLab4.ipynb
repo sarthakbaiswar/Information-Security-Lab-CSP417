{
 "cells": [
  {
   "cell_type": "markdown",
   "metadata": {},
   "source": [
    "**Transposition Cipher**"
   ]
  },
  {
   "cell_type": "code",
   "execution_count": 1,
   "metadata": {},
   "outputs": [],
   "source": [
    "import math"
   ]
  },
  {
   "cell_type": "code",
   "execution_count": 2,
   "metadata": {},
   "outputs": [],
   "source": [
    "def printTable(table):\n",
    "    for i in range(len(table)):\n",
    "        for j in range(len(table[0])):\n",
    "            print(table[i][j],end=' ')\n",
    "        print(\" \")"
   ]
  },
  {
   "cell_type": "code",
   "execution_count": 3,
   "metadata": {},
   "outputs": [],
   "source": [
    "def pre_process(msg, roundKey):\n",
    "\n",
    "    temp = list(roundKey)\n",
    "    temp.sort()\n",
    "    temp = \"\".join(temp)\n",
    "    print('sorted key: ' + temp)\n",
    "    keyNum = \"\"\n",
    "    i = 0\n",
    "    for r in roundKey:\n",
    "        keyNum += str(temp.find(r) + 1)\n",
    "\n",
    "\n",
    "    print('Numeric order of key: ' + keyNum)\n",
    "\n",
    "    row = math.ceil(len(msg)/len(roundKey))\n",
    "\n",
    "    column = len(roundKey)\n",
    "    print(\"Rowsize : \",row, 'Columnsize: ', column)\n",
    "    row = row+1\n",
    "    table=[[\"$\"]*column for i in range(row)]\n",
    "    idx=0\n",
    "\n",
    "    while idx<len(keyNum):\n",
    "        table[0][idx] = int(keyNum[idx])\n",
    "        idx+=1\n",
    "\n",
    "    print(\"Initial Table\")\n",
    "    printTable(table)\n",
    "    \n",
    "    return table, keyNum"
   ]
  },
  {
   "cell_type": "code",
   "execution_count": 4,
   "metadata": {},
   "outputs": [],
   "source": [
    "def encrypt(msg, roundKey):\n",
    "    msg=msg.upper().replace(\" \",\"\")\n",
    "    idx = 0\n",
    "    table,keyNum = pre_process(msg,roundKey)\n",
    "    row = len(table)\n",
    "    column = len(table[0])\n",
    "\n",
    "#     print(\"Message length: \",len(msg))\n",
    "    print()\n",
    "    for i in range(1, row):\n",
    "        for j in range(column):\n",
    "            table[i][j] = msg[idx]\n",
    "            idx+=1\n",
    "            if idx == len(msg):\n",
    "                break;\n",
    "        if(idx == len(msg)):\n",
    "            break;\n",
    "\n",
    "    printTable(table)\n",
    "    \n",
    "    cipherText=\"\"\n",
    "    for ix in range(len(roundKey)):\n",
    "        ix = ix + 1\n",
    "        idx=0\n",
    "        for i in range(column):\n",
    "#             find column to read in order from 1 to len(roundKey)\n",
    "            if table[0][i]==ix:\n",
    "                idx=i\n",
    "                break\n",
    "        for j in range(1,row):\n",
    "            tt=table[j][idx]\n",
    "            cipherText=cipherText+tt\n",
    "    print(\"Cipher Text: \",cipherText)\n",
    "    return cipherText"
   ]
  },
  {
   "cell_type": "code",
   "execution_count": 5,
   "metadata": {},
   "outputs": [],
   "source": [
    "def decrypt(msg, roundKey):\n",
    "#     msg = 'WIURIEW$AGIDENTLRIF$VAO$LBL$ENU$'\n",
    "    idxx = 0\n",
    "    table,keyNum=pre_process(msg,roundKey)\n",
    "    row = len(table)\n",
    "    column = len(table[0])\n",
    "#     print(\"Encrypted message length: \",len(msg))\n",
    "\n",
    "    print()\n",
    "    for ix in range(1, len(roundKey)+1):\n",
    "        idx=0\n",
    "        for i in range(column):\n",
    "#             find column to put the values\n",
    "            if table[0][i]==ix:\n",
    "                idx=i\n",
    "                break\n",
    "        for j in range(1,row):\n",
    "            table[j][idx]=msg[idxx]\n",
    "            idxx+=1\n",
    "\n",
    "    printTable(table)\n",
    "    decipherText = \"\" \n",
    "    for i in range(1, row):\n",
    "        for j in range(column):\n",
    "            if table[i][j]!='$':\n",
    "                decipherText += table[i][j]\n",
    "\n",
    "    print('Decipher Text: ' + decipherText)\n",
    "    return decipherText"
   ]
  },
  {
   "cell_type": "code",
   "execution_count": 6,
   "metadata": {},
   "outputs": [
    {
     "name": "stdout",
     "output_type": "stream",
     "text": [
      "\n",
      "*****************Encryption***************\n",
      "\n",
      "sorted key: CEMOPRTU\n",
      "Numeric order of key: 14358726\n",
      "Rowsize :  4 Columnsize:  8\n",
      "Initial Table\n",
      "1 4 3 5 8 7 2 6  \n",
      "$ $ $ $ $ $ $ $  \n",
      "$ $ $ $ $ $ $ $  \n",
      "$ $ $ $ $ $ $ $  \n",
      "$ $ $ $ $ $ $ $  \n",
      "\n",
      "1 4 3 5 8 7 2 6  \n",
      "W E A R E L I V  \n",
      "I N G I N B E A  \n",
      "U T I F U L W O  \n",
      "R L D $ $ $ $ $  \n",
      "Cipher Text:  WIURIEW$AGIDENTLRIF$VAO$LBL$ENU$\n",
      "\n",
      "\n",
      "*****************Decryption***************\n",
      "\n",
      "sorted key: CEMOPRTU\n",
      "Numeric order of key: 14358726\n",
      "Rowsize :  4 Columnsize:  8\n",
      "Initial Table\n",
      "1 4 3 5 8 7 2 6  \n",
      "$ $ $ $ $ $ $ $  \n",
      "$ $ $ $ $ $ $ $  \n",
      "$ $ $ $ $ $ $ $  \n",
      "$ $ $ $ $ $ $ $  \n",
      "\n",
      "1 4 3 5 8 7 2 6  \n",
      "W E A R E L I V  \n",
      "I N G I N B E A  \n",
      "U T I F U L W O  \n",
      "R L D $ $ $ $ $  \n",
      "Decipher Text: WEARELIVINGINBEAUTIFULWORLD\n"
     ]
    }
   ],
   "source": [
    "roundKey=\"COMPUTER\"\n",
    "msg = \"We are living in beautiful world\"\n",
    "print(\"\\n*****************Encryption***************\\n\")\n",
    "encrypted_text = encrypt(msg,roundKey)\n",
    "print(\"\\n\\n*****************Decryption***************\\n\")\n",
    "decrypted_text = decrypt(encrypted_text,roundKey)"
   ]
  },
  {
   "cell_type": "code",
   "execution_count": null,
   "metadata": {},
   "outputs": [],
   "source": []
  }
 ],
 "metadata": {
  "kernelspec": {
   "display_name": "Python 3",
   "language": "python",
   "name": "python3"
  },
  "language_info": {
   "codemirror_mode": {
    "name": "ipython",
    "version": 3
   },
   "file_extension": ".py",
   "mimetype": "text/x-python",
   "name": "python",
   "nbconvert_exporter": "python",
   "pygments_lexer": "ipython3",
   "version": "3.6.6"
  }
 },
 "nbformat": 4,
 "nbformat_minor": 2
}
